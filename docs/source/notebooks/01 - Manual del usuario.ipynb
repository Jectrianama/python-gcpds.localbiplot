{
 "cells": [
  {
   "cell_type": "markdown",
   "id": "ab678be8-d8d4-4ad5-b14c-f639054fb8b4",
   "metadata": {},
   "source": [
    "<img src=\"_images/localbip_logo.png\" alt=\"biplot_logo\" style=\"width: 150px;\"/> \n",
    "\n",
    "# Manual del Usuario\n",
    "\n",
    "\n",
    "## Localbiplot - Biblioteca de código abierto para el análisis de datos de alta dimensión utilizando biplots por localidades, como soporte a aplicaciones de agricultura de precisión\n",
    "\n"
   ]
  },
  {
   "cell_type": "markdown",
   "id": "da82f01a-ce2a-48f7-bae4-025ff61a936d",
   "metadata": {},
   "source": [
    "1. Descripción general de las funcionalidades que proporciona el aplicativo\n",
    "2. Proceso de instalación del aplicativo\n",
    "3. Aspectos a tener en cuenta al momento de usar el aplicativo.\n",
    "4. Guía detallada del uso del aplicativo, siguiendo la secuencia de uso con imágenes que ubiquen al usuario frente a las interfaces de la aplicación."
   ]
  }
 ],
 "metadata": {
  "kernelspec": {
   "display_name": "Python 3 (ipykernel)",
   "language": "python",
   "name": "python3"
  },
  "language_info": {
   "codemirror_mode": {
    "name": "ipython",
    "version": 3
   },
   "file_extension": ".py",
   "mimetype": "text/x-python",
   "name": "python",
   "nbconvert_exporter": "python",
   "pygments_lexer": "ipython3",
   "version": "3.10.9"
  }
 },
 "nbformat": 4,
 "nbformat_minor": 5
}
