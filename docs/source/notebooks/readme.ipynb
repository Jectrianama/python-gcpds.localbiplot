
{
 "cells": [
   {
   "cell_type": "markdown",
   "id": "0",
   "metadata": {},
   "source": [
    "# localbiplot"
   ]
  }
 ],
 "metadata": {},
 "nbformat": 4,
 "nbformat_minor": 5
}
